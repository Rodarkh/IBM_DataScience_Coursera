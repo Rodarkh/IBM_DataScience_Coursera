{
 "cells": [
  {
   "cell_type": "markdown",
   "id": "f8ec9263-806b-43dd-9ac5-c52fb7dddf71",
   "metadata": {},
   "source": [
    "# Data Science Tools and Ecosystem"
   ]
  },
  {
   "cell_type": "markdown",
   "id": "409307df-d0fc-44a9-8023-86829191a48a",
   "metadata": {},
   "source": [
    "In this notebook, Data Science Tools and Ecosystem are summarized."
   ]
  },
  {
   "cell_type": "markdown",
   "id": "f2e0c6b2-451d-4c42-8542-03fff5dd6add",
   "metadata": {},
   "source": [
    "Some of the popular languages that Data Scientists use are:\n",
    "1. Python\n",
    "2. R\n",
    "3. Julia\n"
   ]
  },
  {
   "cell_type": "markdown",
   "id": "295366b0-41c8-4b0e-a7ac-8631a1551f79",
   "metadata": {},
   "source": [
    "Some of the commonly used libraries used by Data Scientists include:\n",
    "1. Pandas\n",
    "2. Matplotlib\n",
    "3. Scikit-learn\n"
   ]
  },
  {
   "cell_type": "markdown",
   "id": "76c3ab9e-d13f-403a-ab06-199f290961b8",
   "metadata": {
    "tags": []
   },
   "source": [
    "| Data Science Tools |\n",
    "| :--: |\n",
    "| Spyder |\n",
    "| Jupyter Notebook |\n",
    "| RStudio |\n"
   ]
  },
  {
   "cell_type": "markdown",
   "id": "d7d9b895-1108-49cc-99cf-08ce6606e326",
   "metadata": {
    "tags": []
   },
   "source": [
    "### Below are a few examples of evaluating arithmetic expressions in Python\n",
    "\n",
    "1+2\n",
    "\n",
    "2*25/6"
   ]
  },
  {
   "cell_type": "code",
   "execution_count": 9,
   "id": "f2248df2-d295-4865-8cf2-ec952c85dc1b",
   "metadata": {
    "tags": []
   },
   "outputs": [
    {
     "data": {
      "text/plain": [
       "17"
      ]
     },
     "execution_count": 9,
     "metadata": {},
     "output_type": "execute_result"
    }
   ],
   "source": [
    "#This a simple arithmetic expression to mutiply then add integers\n",
    "(3*4)+5"
   ]
  },
  {
   "cell_type": "code",
   "execution_count": 10,
   "id": "01a322d7-07eb-4be4-9df6-65320f8e9fa1",
   "metadata": {
    "tags": []
   },
   "outputs": [
    {
     "data": {
      "text/plain": [
       "3.3333333333333335"
      ]
     },
     "execution_count": 10,
     "metadata": {},
     "output_type": "execute_result"
    }
   ],
   "source": [
    "# This will convert 200 minutes to hours by diving by 60\n",
    "200/60"
   ]
  },
  {
   "cell_type": "markdown",
   "id": "a85b5a67-caf1-48c6-9209-ab2e083a3438",
   "metadata": {},
   "source": [
    "**Objectives:**\n",
    "\n",
    "* List popular languages for Data Science\n",
    "* Learn about different libraries used\n",
    "* Learn how to use Jupyter Notebooks\n",
    "* Learn about version control tools like Git"
   ]
  },
  {
   "cell_type": "markdown",
   "id": "4230e0ee-85f8-4f48-aa1a-920f81822afb",
   "metadata": {},
   "source": [
    "## Author\n",
    "Rodrigo F. Dias"
   ]
  },
  {
   "cell_type": "code",
   "execution_count": null,
   "id": "d23cddf7-5717-4775-9380-aa99674c2e02",
   "metadata": {},
   "outputs": [],
   "source": []
  }
 ],
 "metadata": {
  "kernelspec": {
   "display_name": "Python",
   "language": "python",
   "name": "conda-env-python-py"
  },
  "language_info": {
   "codemirror_mode": {
    "name": "ipython",
    "version": 3
   },
   "file_extension": ".py",
   "mimetype": "text/x-python",
   "name": "python",
   "nbconvert_exporter": "python",
   "pygments_lexer": "ipython3",
   "version": "3.7.12"
  }
 },
 "nbformat": 4,
 "nbformat_minor": 5
}
